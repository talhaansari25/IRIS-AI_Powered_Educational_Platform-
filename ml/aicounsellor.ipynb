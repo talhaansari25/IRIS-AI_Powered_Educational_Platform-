{
 "cells": [
  {
   "cell_type": "code",
   "execution_count": null,
   "metadata": {},
   "outputs": [
    {
     "name": "stdout",
     "output_type": "stream",
     "text": [
      "AI Counselor is processing your query...\n",
      "AI Counselor's Response:\n",
      "I understand that you're facing a challenging decision about your studies. It's important to explore your options and find a path that aligns with your interests and goals. Consider seeking career counseling or consulting a career advisor to discuss your options and receive personalized guidance.\n"
     ]
    }
   ],
   "source": [
    "import ollama\n",
    "\n",
    "def ai_counselor(query, student_info=None):\n",
    "    \"\"\"\n",
    "    AI Counselor that helps university students with academic, career, and emotional advice.\n",
    "    \n",
    "    :param query: The question or query from the student.\n",
    "    :param student_info: Optional dictionary to provide personalized advice (e.g., academic background).\n",
    "    :return: AI-generated response with a restriction of less than 4 sentences.\n",
    "    \"\"\"\n",
    "    \n",
    "    # Preparing a personalized prompt for the AI with sentence length restriction\n",
    "    if student_info:\n",
    "        personalized_prompt = f\"\"\"\n",
    "        You are an AI counselor at a university. You provide personalized advice to students based on their academic background and career goals.\n",
    "        \n",
    "        Student's Academic Background: {student_info.get('background', 'Not provided')}\n",
    "        Student's Career Interests: {student_info.get('career_goals', 'Not provided')}\n",
    "        Current Study Program: {student_info.get('study_program', 'Not specified')}\n",
    "        \n",
    "        Query: {query}\n",
    "        \n",
    "        Please provide a response that is empathetic, concise, and does not exceed 5 sentences.\n",
    "        \"\"\"\n",
    "    else:\n",
    "        personalized_prompt = f\"\"\"\n",
    "        You are an AI counselor at a university. You provide helpful and empathetic advice to students based on their queries.\n",
    "        \n",
    "        Query: {query}\n",
    "        \n",
    "        Please provide a response that is empathetic, concise, and does not exceed 5 sentences.\n",
    "        \"\"\"\n",
    "    \n",
    "    # Communicating with the Ollama API (Gemma 2B Model)\n",
    "    model = \"gemma:2b\"\n",
    "    print(\"AI Counselor is processing your query...\")\n",
    "    response = ollama.chat(model=model, messages=[{\"role\": \"user\", \"content\": personalized_prompt}])\n",
    "    \n",
    "    # Extracting and returning the response\n",
    "    return response['message']['content']\n",
    "\n",
    "# Example Usage\n",
    "if __name__ == \"__main__\":\n",
    "    # Sample student info (can be dynamic based on user input)\n",
    "    student_info = {\n",
    "        'background': '3rd year Computer Science student, interested in machine learning and software development.',\n",
    "        'career_goals': 'Aspiring AI engineer, looking for internship opportunities in AI and software development.',\n",
    "        'study_program': 'B.Tech in Computer Science and Engineering'\n",
    "    }\n",
    "\n",
    "    # Sample query\n",
    "    query = \"i cant study\"\n",
    "\n",
    "    # Get AI counselor's response\n",
    "    response = ai_counselor(query, student_info)\n",
    "    \n",
    "    print(\"AI Counselor's Response:\")\n",
    "    print(response)\n"
   ]
  }
 ],
 "metadata": {
  "kernelspec": {
   "display_name": "Python 3",
   "language": "python",
   "name": "python3"
  },
  "language_info": {
   "codemirror_mode": {
    "name": "ipython",
    "version": 3
   },
   "file_extension": ".py",
   "mimetype": "text/x-python",
   "name": "python",
   "nbconvert_exporter": "python",
   "pygments_lexer": "ipython3",
   "version": "3.12.2"
  }
 },
 "nbformat": 4,
 "nbformat_minor": 2
}
